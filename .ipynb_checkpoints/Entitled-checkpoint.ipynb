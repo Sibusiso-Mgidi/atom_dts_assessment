{
 "cells": [
  {
   "cell_type": "markdown",
   "id": "8672513c",
   "metadata": {},
   "source": [
    "### Import Python Dependencies"
   ]
  },
  {
   "cell_type": "code",
   "execution_count": 1,
   "id": "a841ab58",
   "metadata": {},
   "outputs": [],
   "source": [
    "import time\n",
    "import numpy as np \n",
    "import pandas as pd\n",
    "import sqlite3\n",
    "import psycopg2\n",
    "import os\n",
    "import openpyxl as xl"
   ]
  },
  {
   "cell_type": "markdown",
   "id": "54b0cd10",
   "metadata": {},
   "source": [
    "### Load Datasets"
   ]
  },
  {
   "cell_type": "code",
   "execution_count": 2,
   "id": "7ad0912a",
   "metadata": {},
   "outputs": [],
   "source": [
    "# root directory of the assessment\n",
    "root_dir = os.getcwd()     \n",
    "\n",
    "# this is path to the dataset\n",
    "dataset = os.path.join(root_dir, \"dataset\")\n",
    "\n",
    "#load assessment databases\n",
    "asssessment_db = os.path.join(dataset, \"assessment_db_script.sql\")\n",
    "\n",
    "# load excel dataset\n",
    "dsr_data = os.path.join(dataset, \"DSR.xlsx\")\n",
    "farms_data = os.path.join(dataset, \"farms.xlsx\")\n",
    "producers_data = os.path.join(dataset, \"producers.xlsx\")\n",
    "varieties_data = os.path.join(dataset, \"varieties.xlsx\")\n",
    "vessels_data = os.path.join(dataset, \"vessels.xlsx\")"
   ]
  },
  {
   "cell_type": "code",
   "execution_count": 26,
   "id": "710879a7",
   "metadata": {},
   "outputs": [],
   "source": [
    "class DataLoader(object):\n",
    "    \"\"\"\n",
    "    This is a blueprint for connecting to the database and processing the data\n",
    "    \"\"\"\n",
    "\n",
    "    def __init__(self):\n",
    "        pass\n",
    "    \n",
    "    def connect(self, db_file):\n",
    "        \"\"\"\n",
    "        This method connect to the database\n",
    "\n",
    "        arg:\n",
    "            db_file: this is the dababase file\n",
    "\n",
    "        returns: \n",
    "            cursor and connection\n",
    "        \"\"\"\n",
    "\n",
    "        try:\n",
    "            # connect to the database\n",
    "            conn = sqlite3.connect(db_file)\n",
    "            cursor = conn.cursor()\n",
    "            print(\"Successfully connected to the database.\")\n",
    "\n",
    "        except psycopg2.Error as e:\n",
    "            \n",
    "            print(\"Error: Could not get the cursor to the database\")\n",
    "            print(e)\n",
    "            \n",
    "        return conn, cursor\n",
    "            \n",
    "\n",
    "    def load_workbook(self, file_name):\n",
    "        \"\"\"\n",
    "        This method loads excel dataset\n",
    "        \n",
    "        args:\n",
    "            file_name: the name of the file\n",
    "            excel_file: file to import into the sql database\n",
    "            \n",
    "        returns: \n",
    "            dataframe\n",
    "        \"\"\"\n",
    "        \n",
    "        df = pd.read_excel(file_name)\n",
    "                \n",
    "        return df"
   ]
  },
  {
   "cell_type": "markdown",
   "id": "dbdff252",
   "metadata": {},
   "source": [
    "### Connect to the Database"
   ]
  },
  {
   "cell_type": "code",
   "execution_count": 4,
   "id": "5dd2392d",
   "metadata": {},
   "outputs": [
    {
     "name": "stdout",
     "output_type": "stream",
     "text": [
      "Successfully connected to the database.\n",
      "Time to connect to the DB:  6e-05 minutes\n"
     ]
    }
   ],
   "source": [
    "# data loader object\n",
    "dataloader_object = DataLoader()\n",
    "\n",
    "# start time\n",
    "start_time = time.time()\n",
    "\n",
    "# establish the connection \n",
    "conn, cursor = dataloader_object.connect(asssessment_db)\n",
    "print(\"Time to connect to the DB: \",round((time.time() - start_time)/60,5),\"minutes\")"
   ]
  },
  {
   "cell_type": "markdown",
   "id": "792da958",
   "metadata": {},
   "source": [
    "### Load Detailed Season Report (DSR) Raw Dataset"
   ]
  },
  {
   "cell_type": "code",
   "execution_count": 13,
   "id": "468bfd78",
   "metadata": {},
   "outputs": [
    {
     "name": "stdout",
     "output_type": "stream",
     "text": [
      "Time to connect to the DB:  1.27828 minutes\n"
     ]
    }
   ],
   "source": [
    "# start time\n",
    "start_time = time.time()\n",
    "\n",
    "# load dsr dataframe \n",
    "dsr_df = dataloader_object.load_workbook(dsr_data)\n",
    "\n",
    "print(\"Time to load DSR data: \",round((time.time() - start_time)/60,5),\"minutes\")"
   ]
  },
  {
   "cell_type": "code",
   "execution_count": 32,
   "id": "3d06bb6a",
   "metadata": {},
   "outputs": [
    {
     "data": {
      "text/html": [
       "<div>\n",
       "<style scoped>\n",
       "    .dataframe tbody tr th:only-of-type {\n",
       "        vertical-align: middle;\n",
       "    }\n",
       "\n",
       "    .dataframe tbody tr th {\n",
       "        vertical-align: top;\n",
       "    }\n",
       "\n",
       "    .dataframe thead th {\n",
       "        text-align: right;\n",
       "    }\n",
       "</style>\n",
       "<table border=\"1\" class=\"dataframe\">\n",
       "  <thead>\n",
       "    <tr style=\"text-align: right;\">\n",
       "      <th></th>\n",
       "      <th>Year</th>\n",
       "      <th>ProducerID</th>\n",
       "      <th>FarmID</th>\n",
       "      <th>Sales Week</th>\n",
       "      <th>Pallet ID</th>\n",
       "      <th>Sale ID</th>\n",
       "      <th>Barcode</th>\n",
       "      <th>Grade Code</th>\n",
       "      <th>Mark Code</th>\n",
       "      <th>VarietyID</th>\n",
       "      <th>...</th>\n",
       "      <th>Total Export Cost</th>\n",
       "      <th>Total Weight</th>\n",
       "      <th>Pack Nett Weight</th>\n",
       "      <th>Nett Weight</th>\n",
       "      <th>Pack Gross Weight</th>\n",
       "      <th>Gross Weight</th>\n",
       "      <th>FOB</th>\n",
       "      <th>DIP</th>\n",
       "      <th>VAT</th>\n",
       "      <th>Return To Grower</th>\n",
       "    </tr>\n",
       "  </thead>\n",
       "  <tbody>\n",
       "    <tr>\n",
       "      <th>0</th>\n",
       "      <td>2017</td>\n",
       "      <td>201100</td>\n",
       "      <td>45</td>\n",
       "      <td>24</td>\n",
       "      <td>201233</td>\n",
       "      <td>3124</td>\n",
       "      <td>960091600127485952.0</td>\n",
       "      <td>1</td>\n",
       "      <td>AMA</td>\n",
       "      <td>74</td>\n",
       "      <td>...</td>\n",
       "      <td>0.0</td>\n",
       "      <td>0</td>\n",
       "      <td>16.0</td>\n",
       "      <td>1280.0</td>\n",
       "      <td>16.95</td>\n",
       "      <td>1356.0</td>\n",
       "      <td>10.5</td>\n",
       "      <td>139.324307</td>\n",
       "      <td>-55.907373</td>\n",
       "      <td>10074.410440</td>\n",
       "    </tr>\n",
       "    <tr>\n",
       "      <th>1</th>\n",
       "      <td>2017</td>\n",
       "      <td>201100</td>\n",
       "      <td>45</td>\n",
       "      <td>25</td>\n",
       "      <td>207565</td>\n",
       "      <td>10375</td>\n",
       "      <td>960091600127457024.0</td>\n",
       "      <td>1</td>\n",
       "      <td>AMA</td>\n",
       "      <td>74</td>\n",
       "      <td>...</td>\n",
       "      <td>0.0</td>\n",
       "      <td>0</td>\n",
       "      <td>16.0</td>\n",
       "      <td>1280.0</td>\n",
       "      <td>16.95</td>\n",
       "      <td>1356.0</td>\n",
       "      <td>10.5</td>\n",
       "      <td>137.090203</td>\n",
       "      <td>-47.779393</td>\n",
       "      <td>9875.083022</td>\n",
       "    </tr>\n",
       "    <tr>\n",
       "      <th>2</th>\n",
       "      <td>2017</td>\n",
       "      <td>201100</td>\n",
       "      <td>45</td>\n",
       "      <td>25</td>\n",
       "      <td>100285</td>\n",
       "      <td>10375</td>\n",
       "      <td>960091600127485952.0</td>\n",
       "      <td>1</td>\n",
       "      <td>AMA</td>\n",
       "      <td>74</td>\n",
       "      <td>...</td>\n",
       "      <td>0.0</td>\n",
       "      <td>0</td>\n",
       "      <td>16.0</td>\n",
       "      <td>1280.0</td>\n",
       "      <td>16.95</td>\n",
       "      <td>1356.0</td>\n",
       "      <td>10.5</td>\n",
       "      <td>137.090203</td>\n",
       "      <td>52.220607</td>\n",
       "      <td>9875.083022</td>\n",
       "    </tr>\n",
       "    <tr>\n",
       "      <th>3</th>\n",
       "      <td>2017</td>\n",
       "      <td>201100</td>\n",
       "      <td>45</td>\n",
       "      <td>25</td>\n",
       "      <td>181685</td>\n",
       "      <td>7374</td>\n",
       "      <td>960091600127457024.0</td>\n",
       "      <td>1</td>\n",
       "      <td>AMA</td>\n",
       "      <td>74</td>\n",
       "      <td>...</td>\n",
       "      <td>0.0</td>\n",
       "      <td>0</td>\n",
       "      <td>16.0</td>\n",
       "      <td>1280.0</td>\n",
       "      <td>16.95</td>\n",
       "      <td>1356.0</td>\n",
       "      <td>10.5</td>\n",
       "      <td>141.074018</td>\n",
       "      <td>-40.300725</td>\n",
       "      <td>10122.177720</td>\n",
       "    </tr>\n",
       "    <tr>\n",
       "      <th>4</th>\n",
       "      <td>2017</td>\n",
       "      <td>201100</td>\n",
       "      <td>45</td>\n",
       "      <td>26</td>\n",
       "      <td>66238</td>\n",
       "      <td>6697</td>\n",
       "      <td>960091600127469952.0</td>\n",
       "      <td>1</td>\n",
       "      <td>AMA</td>\n",
       "      <td>700</td>\n",
       "      <td>...</td>\n",
       "      <td>0.0</td>\n",
       "      <td>0</td>\n",
       "      <td>16.0</td>\n",
       "      <td>1280.0</td>\n",
       "      <td>16.95</td>\n",
       "      <td>1356.0</td>\n",
       "      <td>7.0</td>\n",
       "      <td>92.381472</td>\n",
       "      <td>73.753770</td>\n",
       "      <td>6614.094181</td>\n",
       "    </tr>\n",
       "  </tbody>\n",
       "</table>\n",
       "<p>5 rows × 49 columns</p>\n",
       "</div>"
      ],
      "text/plain": [
       "   Year  ProducerID  FarmID  Sales Week  Pallet ID  Sale ID  \\\n",
       "0  2017      201100      45          24     201233     3124   \n",
       "1  2017      201100      45          25     207565    10375   \n",
       "2  2017      201100      45          25     100285    10375   \n",
       "3  2017      201100      45          25     181685     7374   \n",
       "4  2017      201100      45          26      66238     6697   \n",
       "\n",
       "                Barcode Grade Code Mark Code  VarietyID  ...  \\\n",
       "0  960091600127485952.0          1       AMA         74  ...   \n",
       "1  960091600127457024.0          1       AMA         74  ...   \n",
       "2  960091600127485952.0          1       AMA         74  ...   \n",
       "3  960091600127457024.0          1       AMA         74  ...   \n",
       "4  960091600127469952.0          1       AMA        700  ...   \n",
       "\n",
       "  Total Export Cost Total Weight  Pack Nett Weight Nett Weight  \\\n",
       "0               0.0            0              16.0      1280.0   \n",
       "1               0.0            0              16.0      1280.0   \n",
       "2               0.0            0              16.0      1280.0   \n",
       "3               0.0            0              16.0      1280.0   \n",
       "4               0.0            0              16.0      1280.0   \n",
       "\n",
       "   Pack Gross Weight  Gross Weight   FOB         DIP        VAT  \\\n",
       "0              16.95        1356.0  10.5  139.324307 -55.907373   \n",
       "1              16.95        1356.0  10.5  137.090203 -47.779393   \n",
       "2              16.95        1356.0  10.5  137.090203  52.220607   \n",
       "3              16.95        1356.0  10.5  141.074018 -40.300725   \n",
       "4              16.95        1356.0   7.0   92.381472  73.753770   \n",
       "\n",
       "   Return To Grower  \n",
       "0      10074.410440  \n",
       "1       9875.083022  \n",
       "2       9875.083022  \n",
       "3      10122.177720  \n",
       "4       6614.094181  \n",
       "\n",
       "[5 rows x 49 columns]"
      ]
     },
     "execution_count": 32,
     "metadata": {},
     "output_type": "execute_result"
    }
   ],
   "source": [
    "# visualize DSR raw dataset\n",
    "dsr_df.head()"
   ]
  },
  {
   "cell_type": "code",
   "execution_count": 33,
   "id": "4e3e845e",
   "metadata": {},
   "outputs": [
    {
     "name": "stdout",
     "output_type": "stream",
     "text": [
      "Year                       0\n",
      "ProducerID                 0\n",
      "FarmID                     0\n",
      "Sales Week                 0\n",
      "Pallet ID                  0\n",
      "Sale ID                    0\n",
      "Barcode                    0\n",
      "Grade Code                 0\n",
      "Mark Code                  0\n",
      "VarietyID                  0\n",
      "Pack Code                  0\n",
      "Count Code                 2\n",
      "Exchange Rate              0\n",
      "Currency                   0\n",
      "QC                         0\n",
      "Sequence Number            0\n",
      "Production ID            209\n",
      "Run Number             96551\n",
      "Container No           55337\n",
      "VesselID                   0\n",
      "Port Of Discharge      42479\n",
      "Target Market              0\n",
      "Inventory Code           587\n",
      "Trader ID                  0\n",
      "Pallet Size                0\n",
      "From Barcode             211\n",
      "To Barcode                 0\n",
      "Invoice ID                 0\n",
      "Selected                 209\n",
      "No Cartons                 0\n",
      "Advance Price              0\n",
      "Producer Adjustment        0\n",
      "Advance Purchase          44\n",
      "Purchase Price           164\n",
      "Final Price                0\n",
      "Total                      0\n",
      "Debit Note                 0\n",
      "Credit Note                0\n",
      "Total Local Cost           0\n",
      "Total Export Cost          0\n",
      "Total Weight               0\n",
      "Pack Nett Weight         119\n",
      "Nett Weight              119\n",
      "Pack Gross Weight        415\n",
      "Gross Weight             415\n",
      "FOB                        0\n",
      "DIP                        0\n",
      "VAT                    14787\n",
      "Return To Grower           0\n",
      "dtype: int64\n"
     ]
    }
   ],
   "source": [
    "# compute the sum of null values in the dataframe\n",
    "sum_of_null_values = dsr_df.isnull().sum()\n",
    "\n",
    "print(sum_of_null_values)"
   ]
  },
  {
   "cell_type": "markdown",
   "id": "f0e2728e",
   "metadata": {},
   "source": [
    "### Load Farms Raw Dataset"
   ]
  },
  {
   "cell_type": "code",
   "execution_count": 34,
   "id": "8936356b",
   "metadata": {},
   "outputs": [
    {
     "name": "stdout",
     "output_type": "stream",
     "text": [
      "Time to connect to the DB:  0.00037 minutes\n"
     ]
    }
   ],
   "source": [
    "# start time\n",
    "start_time = time.time()\n",
    "\n",
    "# loads farms raw dataset\n",
    "farms_df  = dataloader_object.load_workbook(farms_data )\n",
    "\n",
    "print(\"Time to loads farms data: \",round((time.time() - start_time)/60,5),\"minutes\")"
   ]
  },
  {
   "cell_type": "code",
   "execution_count": 35,
   "id": "dfdfafc0",
   "metadata": {},
   "outputs": [
    {
     "data": {
      "text/html": [
       "<div>\n",
       "<style scoped>\n",
       "    .dataframe tbody tr th:only-of-type {\n",
       "        vertical-align: middle;\n",
       "    }\n",
       "\n",
       "    .dataframe tbody tr th {\n",
       "        vertical-align: top;\n",
       "    }\n",
       "\n",
       "    .dataframe thead th {\n",
       "        text-align: right;\n",
       "    }\n",
       "</style>\n",
       "<table border=\"1\" class=\"dataframe\">\n",
       "  <thead>\n",
       "    <tr style=\"text-align: right;\">\n",
       "      <th></th>\n",
       "      <th>ID</th>\n",
       "      <th>Farm Name</th>\n",
       "    </tr>\n",
       "  </thead>\n",
       "  <tbody>\n",
       "    <tr>\n",
       "      <th>0</th>\n",
       "      <td>45</td>\n",
       "      <td>Tel Dan</td>\n",
       "    </tr>\n",
       "    <tr>\n",
       "      <th>1</th>\n",
       "      <td>54</td>\n",
       "      <td>Urkish</td>\n",
       "    </tr>\n",
       "    <tr>\n",
       "      <th>2</th>\n",
       "      <td>62</td>\n",
       "      <td>Lehi</td>\n",
       "    </tr>\n",
       "    <tr>\n",
       "      <th>3</th>\n",
       "      <td>83</td>\n",
       "      <td>Shur</td>\n",
       "    </tr>\n",
       "    <tr>\n",
       "      <th>4</th>\n",
       "      <td>154</td>\n",
       "      <td>Havilah</td>\n",
       "    </tr>\n",
       "  </tbody>\n",
       "</table>\n",
       "</div>"
      ],
      "text/plain": [
       "    ID Farm Name\n",
       "0   45   Tel Dan\n",
       "1   54   Urkish \n",
       "2   62      Lehi\n",
       "3   83      Shur\n",
       "4  154   Havilah"
      ]
     },
     "execution_count": 35,
     "metadata": {},
     "output_type": "execute_result"
    }
   ],
   "source": [
    "# visualize farms raw dataset\n",
    "farms_df.head()"
   ]
  },
  {
   "cell_type": "markdown",
   "id": "3da4e7b7",
   "metadata": {},
   "source": [
    "### Load Producers Raw Dataset"
   ]
  },
  {
   "cell_type": "code",
   "execution_count": 36,
   "id": "27f40ea3",
   "metadata": {},
   "outputs": [
    {
     "name": "stdout",
     "output_type": "stream",
     "text": [
      "Time to connect to the DB:  0.00024 minutes\n"
     ]
    }
   ],
   "source": [
    "# start time\n",
    "start_time = time.time()\n",
    "\n",
    "# loads producers raw dataset\n",
    "producers_df  = dataloader_object.load_workbook(producers_data)\n",
    "\n",
    "print(\"Time to load producers: \",round((time.time() - start_time)/60,5),\"minutes\")"
   ]
  },
  {
   "cell_type": "code",
   "execution_count": 38,
   "id": "ab588fec",
   "metadata": {},
   "outputs": [
    {
     "data": {
      "text/html": [
       "<div>\n",
       "<style scoped>\n",
       "    .dataframe tbody tr th:only-of-type {\n",
       "        vertical-align: middle;\n",
       "    }\n",
       "\n",
       "    .dataframe tbody tr th {\n",
       "        vertical-align: top;\n",
       "    }\n",
       "\n",
       "    .dataframe thead th {\n",
       "        text-align: right;\n",
       "    }\n",
       "</style>\n",
       "<table border=\"1\" class=\"dataframe\">\n",
       "  <thead>\n",
       "    <tr style=\"text-align: right;\">\n",
       "      <th></th>\n",
       "      <th>ID</th>\n",
       "      <th>Producer</th>\n",
       "    </tr>\n",
       "  </thead>\n",
       "  <tbody>\n",
       "    <tr>\n",
       "      <th>0</th>\n",
       "      <td>201100</td>\n",
       "      <td>Alderaan</td>\n",
       "    </tr>\n",
       "    <tr>\n",
       "      <th>1</th>\n",
       "      <td>318820</td>\n",
       "      <td>Yavin IV</td>\n",
       "    </tr>\n",
       "    <tr>\n",
       "      <th>2</th>\n",
       "      <td>351986</td>\n",
       "      <td>Hoth</td>\n",
       "    </tr>\n",
       "    <tr>\n",
       "      <th>3</th>\n",
       "      <td>240822</td>\n",
       "      <td>Dagobah</td>\n",
       "    </tr>\n",
       "    <tr>\n",
       "      <th>4</th>\n",
       "      <td>11959</td>\n",
       "      <td>Bespin</td>\n",
       "    </tr>\n",
       "  </tbody>\n",
       "</table>\n",
       "</div>"
      ],
      "text/plain": [
       "       ID  Producer\n",
       "0  201100  Alderaan\n",
       "1  318820  Yavin IV\n",
       "2  351986      Hoth\n",
       "3  240822   Dagobah\n",
       "4   11959    Bespin"
      ]
     },
     "execution_count": 38,
     "metadata": {},
     "output_type": "execute_result"
    }
   ],
   "source": [
    "# visualize producers raw dataset\n",
    "producers_df.head()"
   ]
  },
  {
   "cell_type": "markdown",
   "id": "118dfa9c",
   "metadata": {},
   "source": [
    "### Load Varieties Raw Dataset"
   ]
  },
  {
   "cell_type": "code",
   "execution_count": 39,
   "id": "434a748c",
   "metadata": {},
   "outputs": [
    {
     "name": "stdout",
     "output_type": "stream",
     "text": [
      "Time to connect to the DB:  0.00058 minutes\n"
     ]
    }
   ],
   "source": [
    "# start time\n",
    "start_time = time.time()\n",
    "\n",
    "# loads varieties raw dataset\n",
    "varieties_df  = dataloader_object.load_workbook(varieties_data)\n",
    "\n",
    "print(\"Time to connect to the DB: \",round((time.time() - start_time)/60,5),\"minutes\")"
   ]
  },
  {
   "cell_type": "code",
   "execution_count": 40,
   "id": "24dd0021",
   "metadata": {},
   "outputs": [
    {
     "data": {
      "text/html": [
       "<div>\n",
       "<style scoped>\n",
       "    .dataframe tbody tr th:only-of-type {\n",
       "        vertical-align: middle;\n",
       "    }\n",
       "\n",
       "    .dataframe tbody tr th {\n",
       "        vertical-align: top;\n",
       "    }\n",
       "\n",
       "    .dataframe thead th {\n",
       "        text-align: right;\n",
       "    }\n",
       "</style>\n",
       "<table border=\"1\" class=\"dataframe\">\n",
       "  <thead>\n",
       "    <tr style=\"text-align: right;\">\n",
       "      <th></th>\n",
       "      <th>ID</th>\n",
       "      <th>Variety Group</th>\n",
       "      <th>Variety Code</th>\n",
       "      <th>Commodity Code</th>\n",
       "    </tr>\n",
       "  </thead>\n",
       "  <tbody>\n",
       "    <tr>\n",
       "      <th>0</th>\n",
       "      <td>45</td>\n",
       "      <td>AGN</td>\n",
       "      <td>AGN</td>\n",
       "      <td>OR</td>\n",
       "    </tr>\n",
       "    <tr>\n",
       "      <th>1</th>\n",
       "      <td>965</td>\n",
       "      <td>ALN</td>\n",
       "      <td>ALN</td>\n",
       "      <td>OR</td>\n",
       "    </tr>\n",
       "    <tr>\n",
       "      <th>2</th>\n",
       "      <td>937</td>\n",
       "      <td>ANL</td>\n",
       "      <td>ANL</td>\n",
       "      <td>OR</td>\n",
       "    </tr>\n",
       "    <tr>\n",
       "      <th>3</th>\n",
       "      <td>610</td>\n",
       "      <td>BAR</td>\n",
       "      <td>BAR</td>\n",
       "      <td>GR</td>\n",
       "    </tr>\n",
       "    <tr>\n",
       "      <th>4</th>\n",
       "      <td>686</td>\n",
       "      <td>BIN</td>\n",
       "      <td>ELL</td>\n",
       "      <td>SC</td>\n",
       "    </tr>\n",
       "  </tbody>\n",
       "</table>\n",
       "</div>"
      ],
      "text/plain": [
       "    ID Variety Group Variety Code Commodity Code\n",
       "0   45           AGN          AGN             OR\n",
       "1  965           ALN          ALN             OR\n",
       "2  937           ANL          ANL             OR\n",
       "3  610           BAR          BAR             GR\n",
       "4  686           BIN          ELL             SC"
      ]
     },
     "execution_count": 40,
     "metadata": {},
     "output_type": "execute_result"
    }
   ],
   "source": [
    "# visualize varieties raw dataset\n",
    "varieties_df.head()"
   ]
  },
  {
   "cell_type": "markdown",
   "id": "3a457fc1",
   "metadata": {},
   "source": [
    "### Load Vessels Raw Dataset"
   ]
  },
  {
   "cell_type": "code",
   "execution_count": 41,
   "id": "4d92db44",
   "metadata": {},
   "outputs": [
    {
     "name": "stdout",
     "output_type": "stream",
     "text": [
      "Time to connect to the DB:  0.00094 minutes\n"
     ]
    }
   ],
   "source": [
    "# start time\n",
    "start_time = time.time()\n",
    "\n",
    "# loads vessels raw dataset\n",
    "vessels_df  = dataloader_object.load_workbook(vessels_data)\n",
    "\n",
    "print(\"Time to connect to the DB: \",round((time.time() - start_time)/60,5),\"minutes\")"
   ]
  },
  {
   "cell_type": "code",
   "execution_count": null,
   "id": "5ca314d1",
   "metadata": {},
   "outputs": [],
   "source": []
  }
 ],
 "metadata": {
  "kernelspec": {
   "display_name": "Python 3 (ipykernel)",
   "language": "python",
   "name": "python3"
  },
  "language_info": {
   "codemirror_mode": {
    "name": "ipython",
    "version": 3
   },
   "file_extension": ".py",
   "mimetype": "text/x-python",
   "name": "python",
   "nbconvert_exporter": "python",
   "pygments_lexer": "ipython3",
   "version": "3.8.10"
  }
 },
 "nbformat": 4,
 "nbformat_minor": 5
}
