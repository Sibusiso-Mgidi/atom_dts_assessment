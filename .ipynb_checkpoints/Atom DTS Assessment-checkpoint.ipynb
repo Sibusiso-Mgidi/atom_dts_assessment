{
 "cells": [
  {
   "cell_type": "markdown",
   "id": "8672513c",
   "metadata": {},
   "source": [
    "### Import Python Dependencies"
   ]
  },
  {
   "cell_type": "code",
   "execution_count": 5,
   "id": "204cc1b9",
   "metadata": {},
   "outputs": [],
   "source": [
    "import time\n",
    "import numpy as np \n",
    "import pandas as pd\n",
    "import sqlite3\n",
    "import psycopg2\n",
    "import os"
   ]
  },
  {
   "cell_type": "markdown",
   "id": "453f2055",
   "metadata": {},
   "source": [
    "### 1. Load Datasets"
   ]
  },
  {
   "cell_type": "code",
   "execution_count": 20,
   "id": "e6220871",
   "metadata": {},
   "outputs": [],
   "source": [
    "class DataLoader(object):\n",
    "    \"\"\"\n",
    "    This is a blueprint for loading the dataset\n",
    "    \"\"\"\n",
    "\n",
    "    def __init__(self):\n",
    "        pass\n",
    "\n",
    "    def get_dataset_path(self):\n",
    "        \"\"\"\n",
    "        This method loads data\n",
    "        :returns: dataset path\n",
    "        \"\"\"\n",
    "        \n",
    "        # root directory of the assessment\n",
    "        root_dir = os.getcwd()\n",
    "        \n",
    "        # dataset\n",
    "        dataset_path = os.path.join(root_dir, \"dataset\")\n",
    "\n",
    "        return dataset_path\n",
    "\n",
    "    def connect(self):\n",
    "        \"\"\"\n",
    "        This method connect to the database\n",
    "        :returns: cursor\n",
    "        \"\"\"\n",
    "\n",
    "\n",
    "    def load_excel_data(self, name):\n",
    "        \n",
    "        pass\n",
    "    \n",
    "    "
   ]
  },
  {
   "cell_type": "code",
   "execution_count": 21,
   "id": "e2c6abcc",
   "metadata": {},
   "outputs": [
    {
     "data": {
      "text/plain": [
       "'/home/sibusiso/Desktop/source control/atom_dts_assessment/dataset'"
      ]
     },
     "execution_count": 21,
     "metadata": {},
     "output_type": "execute_result"
    }
   ],
   "source": [
    "data_loader_object = DataLoader()\n",
    "data_path = data_loader_object.get_dataset_path()\n"
   ]
  },
  {
   "cell_type": "code",
   "execution_count": null,
   "id": "05277e63",
   "metadata": {},
   "outputs": [],
   "source": [
    "databaseFilename = '../databases/songs.db'\n",
    "connection = sqlite3.connect(databaseFilename)\n",
    "cursor = connection.cursor()"
   ]
  }
 ],
 "metadata": {
  "kernelspec": {
   "display_name": "Python 3 (ipykernel)",
   "language": "python",
   "name": "python3"
  },
  "language_info": {
   "codemirror_mode": {
    "name": "ipython",
    "version": 3
   },
   "file_extension": ".py",
   "mimetype": "text/x-python",
   "name": "python",
   "nbconvert_exporter": "python",
   "pygments_lexer": "ipython3",
   "version": "3.8.10"
  }
 },
 "nbformat": 4,
 "nbformat_minor": 5
}
