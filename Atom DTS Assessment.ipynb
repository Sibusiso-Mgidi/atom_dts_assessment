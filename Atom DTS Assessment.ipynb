{
 "cells": [
  {
   "cell_type": "markdown",
   "id": "8672513c",
   "metadata": {},
   "source": [
    "### 1. Import Python Dependencies"
   ]
  },
  {
   "cell_type": "code",
   "execution_count": 5,
   "id": "87a88005",
   "metadata": {},
   "outputs": [],
   "source": [
    "import time\n",
    "import numpy as np \n",
    "import pandas as pd\n",
    "import sqlite3\n",
    "import psycopg2\n",
    "import os"
   ]
  },
  {
   "cell_type": "markdown",
   "id": "777ac54c",
   "metadata": {},
   "source": [
    "### 2. Load Datasets"
   ]
  },
  {
   "cell_type": "code",
   "execution_count": 20,
   "id": "db451cc5",
   "metadata": {},
   "outputs": [],
   "source": [
    "class DataLoader(object):\n",
    "    \"\"\"\n",
    "    This is a blueprint for loading the dataset\n",
    "    \"\"\"\n",
    "\n",
    "    def __init__(self):\n",
    "        pass\n",
    "    \n",
    "    def connect(self, db_file):\n",
    "    \"\"\"\n",
    "    This method connect to the database\n",
    "\n",
    "    arg:\n",
    "        db_file: this is the dababase file\n",
    "\n",
    "    returns: \n",
    "        cursor and connection\n",
    "    \"\"\"\n",
    "\n",
    "        try:\n",
    "            # connect to the database\n",
    "            conn = sqlite3.connect(db_file)\n",
    "            cursor = conn.cursor()\n",
    "            print(\"Successfully connected to the database\")\n",
    "\n",
    "        except psycopg2.Error as e:\n",
    "            \n",
    "            print(\"Error: Could not get the cursor to the database\")\n",
    "            print(e)\n",
    "            \n",
    "        return conn, cursor\n",
    "            \n",
    "\n",
    "    def get_dataset_path(self):\n",
    "        \"\"\"\n",
    "        This method loads data\n",
    "        \n",
    "        returns: \n",
    "            dataset path\n",
    "        \"\"\"\n",
    "        \n",
    "        # root directory of the assessment\n",
    "        root_dir = os.getcwd()\n",
    "        \n",
    "        # this is path to the dataset\n",
    "        dataset_path = os.path.join(root_dir, \"dataset\")\n",
    "\n",
    "        return dataset_path\n",
    "\n",
    "\n",
    "    def load_excel_data(self, name):\n",
    "        \n",
    "        \n",
    "        pass\n",
    "    \n",
    "    "
   ]
  },
  {
   "cell_type": "code",
   "execution_count": 21,
   "id": "d04a6c2f",
   "metadata": {},
   "outputs": [
    {
     "data": {
      "text/plain": [
       "'/home/sibusiso/Desktop/source control/atom_dts_assessment/dataset'"
      ]
     },
     "execution_count": 21,
     "metadata": {},
     "output_type": "execute_result"
    }
   ],
   "source": [
    "data_loader_object = DataLoader()\n",
    "data_path = data_loader_object.get_dataset_path()\n"
   ]
  }
 ],
 "metadata": {
  "kernelspec": {
   "display_name": "Python 3 (ipykernel)",
   "language": "python",
   "name": "python3"
  },
  "language_info": {
   "codemirror_mode": {
    "name": "ipython",
    "version": 3
   },
   "file_extension": ".py",
   "mimetype": "text/x-python",
   "name": "python",
   "nbconvert_exporter": "python",
   "pygments_lexer": "ipython3",
   "version": "3.8.10"
  }
 },
 "nbformat": 4,
 "nbformat_minor": 5
}
