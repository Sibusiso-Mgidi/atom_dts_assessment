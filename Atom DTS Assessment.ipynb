{
 "cells": [
  {
   "cell_type": "markdown",
   "id": "8672513c",
   "metadata": {},
   "source": [
    "### 1. Import Python Dependencies"
   ]
  },
  {
   "cell_type": "code",
   "execution_count": 5,
   "id": "ccf3158a",
   "metadata": {},
   "outputs": [],
   "source": [
    "import time\n",
    "import numpy as np \n",
    "import pandas as pd\n",
    "import sqlite3\n",
    "import psycopg2\n",
    "import os"
   ]
  },
  {
   "cell_type": "markdown",
   "id": "ff3d2abd",
   "metadata": {},
   "source": [
    "### 2. Load Datasets"
   ]
  },
  {
   "cell_type": "code",
   "execution_count": 27,
   "id": "01a6f3c7",
   "metadata": {},
   "outputs": [],
   "source": [
    "# root directory of the assessment\n",
    "root_dir = os.getcwd()     \n",
    "\n",
    "# this is path to the dataset\n",
    "dataset = os.path.join(root_dir, \"dataset\")\n",
    "\n",
    "#load assessment databases\n",
    "asssessment_db = os.path.join(dataset, \"assessment_db_script.sql\")\n",
    "\n",
    "# load excel dataset\n",
    "dsr_data = os.path.join(dataset, \"DSR.xlsx\")\n",
    "farms_data = os.path.join(dataset, \"farms.xlsx\")\n",
    "producers_data = os.path.join(dataset, \"producers.xlsx\")\n",
    "varieties_data = os.path.join(dataset, \"varieties.xlsx\")\n",
    "vessels_data = os.path.join(dataset, \"vessels.xlsx\")"
   ]
  },
  {
   "cell_type": "code",
   "execution_count": 25,
   "id": "00a408b5",
   "metadata": {},
   "outputs": [],
   "source": [
    "class DataLoader(object):\n",
    "    \"\"\"\n",
    "    This is a blueprint for loading the dataset\n",
    "    \"\"\"\n",
    "\n",
    "    def __init__(self):\n",
    "        pass\n",
    "    \n",
    "    def connect(self, db_file):\n",
    "        \"\"\"\n",
    "        This method connect to the database\n",
    "\n",
    "        arg:\n",
    "            db_file: this is the dababase file\n",
    "\n",
    "        returns: \n",
    "            cursor and connection\n",
    "        \"\"\"\n",
    "\n",
    "        try:\n",
    "            # connect to the database\n",
    "            conn = sqlite3.connect(db_file)\n",
    "            cursor = conn.cursor()\n",
    "            print(\"Successfully connected to the database\")\n",
    "\n",
    "        except psycopg2.Error as e:\n",
    "            \n",
    "            print(\"Error: Could not get the cursor to the database\")\n",
    "            print(e)\n",
    "            \n",
    "        return conn, cursor\n",
    "            \n",
    "\n",
    "    def load_excel_data(self, file_name):\n",
    "        \"\"\"\n",
    "        This method loads excel dataset\n",
    "        \n",
    "        args:\n",
    "            file_name: the name of the file\n",
    "            excel_file: file to import into the sql database\n",
    "            \n",
    "        returns: \n",
    "            dataframe\n",
    "        \"\"\"\n",
    "        \n",
    "        df = pd.read_excel(open(excel_file,'rb'), sheetname = file_name)\n",
    "        \n",
    "        return df"
   ]
  },
  {
   "cell_type": "code",
   "execution_count": 26,
   "id": "f693eb58",
   "metadata": {},
   "outputs": [
    {
     "data": {
      "text/plain": [
       "'/home/sibusiso/Desktop/source control/atom_dts_assessment/dataset/DSR.xlsx'"
      ]
     },
     "execution_count": 26,
     "metadata": {},
     "output_type": "execute_result"
    }
   ],
   "source": [
    "dataloader_object = DataLoader()\n",
    "datapath = data_loader_object.get_dataset_path()\n",
    "dsr_data = os.path.join(dsr_path, \"DSR.xlsx\")\n"
   ]
  },
  {
   "cell_type": "code",
   "execution_count": null,
   "id": "cae91354",
   "metadata": {},
   "outputs": [],
   "source": []
  }
 ],
 "metadata": {
  "kernelspec": {
   "display_name": "Python 3 (ipykernel)",
   "language": "python",
   "name": "python3"
  },
  "language_info": {
   "codemirror_mode": {
    "name": "ipython",
    "version": 3
   },
   "file_extension": ".py",
   "mimetype": "text/x-python",
   "name": "python",
   "nbconvert_exporter": "python",
   "pygments_lexer": "ipython3",
   "version": "3.8.10"
  }
 },
 "nbformat": 4,
 "nbformat_minor": 5
}
