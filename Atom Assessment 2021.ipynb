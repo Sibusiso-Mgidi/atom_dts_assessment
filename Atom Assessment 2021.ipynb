{
 "cells": [
  {
   "cell_type": "markdown",
   "id": "b44ef462",
   "metadata": {},
   "source": [
    "### Import Libraries"
   ]
  },
  {
   "cell_type": "code",
   "execution_count": 1,
   "id": "538b3371",
   "metadata": {},
   "outputs": [],
   "source": [
    "import pyodbc\n",
    "import pandas as pd\n",
    "import os\n",
    "import time"
   ]
  },
  {
   "cell_type": "code",
   "execution_count": 2,
   "id": "6cd0f41b",
   "metadata": {},
   "outputs": [
    {
     "name": "stdout",
     "output_type": "stream",
     "text": [
      "SQL Server\n",
      "SQL Server Native Client 11.0\n",
      "ODBC Driver 17 for SQL Server\n",
      "SQL Server Native Client RDA 11.0\n"
     ]
    }
   ],
   "source": [
    "# root directory of the assessment\n",
    "root_dir = os.getcwd()     \n",
    "\n",
    "# this is path to the dataset\n",
    "dataset = os.path.join(root_dir, \"dataset\")\n",
    "\n",
    "# load excel dataset\n",
    "dsr_data = os.path.join(dataset, \"DSR.xlsx\")\n",
    "farms_data = os.path.join(dataset, \"farms.xlsx\")\n",
    "producers_data = os.path.join(dataset, \"producers.xlsx\")\n",
    "varieties_data = os.path.join(dataset, \"varieties.xlsx\")\n",
    "vessels_data = os.path.join(dataset, \"vessels.xlsx\")\n",
    "\n",
    "# loop through all the drivers we have access to\n",
    "for driver in pyodbc.drivers():\n",
    "    print(driver)"
   ]
  },
  {
   "cell_type": "markdown",
   "id": "ea8527c8",
   "metadata": {},
   "source": [
    "### Connecting to the Databases"
   ]
  },
  {
   "cell_type": "code",
   "execution_count": 6,
   "id": "46364a13",
   "metadata": {},
   "outputs": [],
   "source": [
    "class ConnectDB(object):\n",
    "    \"\"\"\n",
    "    This is a blueprint for codnnecting to the local databases\n",
    "    \"\"\"\n",
    "    \n",
    "    def __init__(self):\n",
    "        self.server = \"DESKTOP-E5PL80T\\SQLEXPRESS\"\n",
    "        self.database = \"Atom_Assessment_2021\"\n",
    "        self.driver =  \"ODBC Driver 17 for SQL Server\"\n",
    "    \n",
    "    def get_connection(self):\n",
    "        \"\"\"\n",
    "        This method connects to the database\n",
    "        :returns:\n",
    "            cur, conn\n",
    "        \"\"\"\n",
    "\n",
    "        try:\n",
    "            # connect to the database\n",
    "            conn = pyodbc.connect('DRIVER={ODBC Driver 17 for SQL Server}; \\\n",
    "                   SERVER=' + self.server + '; \\\n",
    "                   DATABASE=' + self.database +';\\\n",
    "                   Trusted_Connection=yes;')\n",
    "            cursor = conn.cursor()\n",
    "        \n",
    "        except Exception as e:\n",
    "                \n",
    "            print(\"Error: Could not get the cursor to the database\")\n",
    "            print(e)\n",
    "        \n",
    "        return conn, cursor      "
   ]
  },
  {
   "cell_type": "code",
   "execution_count": 7,
   "id": "c468766f",
   "metadata": {},
   "outputs": [
    {
     "name": "stdout",
     "output_type": "stream",
     "text": [
      "Time to connect to the DB:  0.00022 minutes\n"
     ]
    }
   ],
   "source": [
    "# start time\n",
    "start_time = time.time()\n",
    "\n",
    "# define db connect object\n",
    "connect_db_object = ConnectDB()\n",
    "\n",
    "# establish the connection \n",
    "conn, cursor = connect_db_object.get_connection()\n",
    "print(\"Time to connect to the DB: \",round((time.time() - start_time)/60,5),\"minutes\")"
   ]
  },
  {
   "cell_type": "markdown",
   "id": "f552a90e",
   "metadata": {},
   "source": [
    "### Display Table Names from the Server"
   ]
  },
  {
   "cell_type": "code",
   "execution_count": 12,
   "id": "9b4031c9",
   "metadata": {},
   "outputs": [
    {
     "name": "stdout",
     "output_type": "stream",
     "text": [
      "('DSR', )\n",
      "('Farms', )\n",
      "('Producers', )\n",
      "('Varieties', )\n",
      "('Vessels', )\n"
     ]
    }
   ],
   "source": [
    "# sql quecry for displaying all tables from the databases\n",
    "cursor.execute(\"SELECT table_name FROM information_schema.tables;\")\n",
    "\n",
    "# fetch all tables\n",
    "tables  = cursor.fetchall()\n",
    "\n",
    "# iterate through the database and display all table names\n",
    "for table_name in tables:\n",
    "    print(table_name)"
   ]
  },
  {
   "cell_type": "markdown",
   "id": "22486e67",
   "metadata": {},
   "source": [
    "### Load Excel Dataset"
   ]
  },
  {
   "cell_type": "code",
   "execution_count": 13,
   "id": "419815b9",
   "metadata": {},
   "outputs": [],
   "source": [
    "class LoadExcelDataset(object):\n",
    "    \"\"\"\n",
    "    This is a blueprint for loading dataset\n",
    "    \"\"\"\n",
    "    def __init__(self):\n",
    "        pass\n",
    "    \n",
    "    def get_excel_data(self, file_name):\n",
    "        \"\"\"\n",
    "        This method loads excel dataset\n",
    "        \n",
    "        args:\n",
    "            file_name: the name of the file\n",
    "            excel_file: file to import into the sql database\n",
    "            \n",
    "        returns: \n",
    "            dataframe\n",
    "        \"\"\"\n",
    "        \n",
    "        df = pd.read_excel(file_name)\n",
    "                \n",
    "        return df\n",
    "    \n",
    "    def load_to_db(self, conn, df):\n",
    "        \"\"\"\n",
    "        This method loads excel data to the dabase\n",
    "        \n",
    "        \"\"\"\n",
    "        \n",
    "        \n",
    "        "
   ]
  },
  {
   "cell_type": "markdown",
   "id": "30071cfa",
   "metadata": {},
   "source": [
    "### Load Detailed Season Report (DSR) Raw Dataset"
   ]
  },
  {
   "cell_type": "code",
   "execution_count": 14,
   "id": "32c30af3",
   "metadata": {},
   "outputs": [
    {
     "name": "stdout",
     "output_type": "stream",
     "text": [
      "Time to load DSR data:  104.87363 minutes\n"
     ]
    }
   ],
   "source": [
    "# excel data object\n",
    "excel_data_object = LoadExcelDataset()\n",
    "\n",
    "# load dsr dataframe \n",
    "dsr_df = excel_data_object.get_excel_data(dsr_data)\n",
    "\n",
    "print(\"Time to load DSR data: \",round((time.time() - start_time)/60,5),\"minutes\")"
   ]
  },
  {
   "cell_type": "code",
   "execution_count": 14,
   "id": "fb01326c",
   "metadata": {},
   "outputs": [
    {
     "data": {
      "text/html": [
       "<div>\n",
       "<style scoped>\n",
       "    .dataframe tbody tr th:only-of-type {\n",
       "        vertical-align: middle;\n",
       "    }\n",
       "\n",
       "    .dataframe tbody tr th {\n",
       "        vertical-align: top;\n",
       "    }\n",
       "\n",
       "    .dataframe thead th {\n",
       "        text-align: right;\n",
       "    }\n",
       "</style>\n",
       "<table border=\"1\" class=\"dataframe\">\n",
       "  <thead>\n",
       "    <tr style=\"text-align: right;\">\n",
       "      <th></th>\n",
       "      <th>Year</th>\n",
       "      <th>ProducerID</th>\n",
       "      <th>FarmID</th>\n",
       "      <th>Sales Week</th>\n",
       "      <th>Pallet ID</th>\n",
       "      <th>Sale ID</th>\n",
       "      <th>Barcode</th>\n",
       "      <th>Grade Code</th>\n",
       "      <th>Mark Code</th>\n",
       "      <th>VarietyID</th>\n",
       "      <th>...</th>\n",
       "      <th>Total Export Cost</th>\n",
       "      <th>Total Weight</th>\n",
       "      <th>Pack Nett Weight</th>\n",
       "      <th>Nett Weight</th>\n",
       "      <th>Pack Gross Weight</th>\n",
       "      <th>Gross Weight</th>\n",
       "      <th>FOB</th>\n",
       "      <th>DIP</th>\n",
       "      <th>VAT</th>\n",
       "      <th>Return To Grower</th>\n",
       "    </tr>\n",
       "  </thead>\n",
       "  <tbody>\n",
       "    <tr>\n",
       "      <th>0</th>\n",
       "      <td>2017</td>\n",
       "      <td>201100</td>\n",
       "      <td>45</td>\n",
       "      <td>24</td>\n",
       "      <td>201233</td>\n",
       "      <td>3124</td>\n",
       "      <td>960091600127485952</td>\n",
       "      <td>1</td>\n",
       "      <td>AMA</td>\n",
       "      <td>74</td>\n",
       "      <td>...</td>\n",
       "      <td>0.0</td>\n",
       "      <td>0</td>\n",
       "      <td>16.0</td>\n",
       "      <td>1280.0</td>\n",
       "      <td>16.95</td>\n",
       "      <td>1356.0</td>\n",
       "      <td>10.5</td>\n",
       "      <td>139.324307</td>\n",
       "      <td>-55.907373</td>\n",
       "      <td>10074.410440</td>\n",
       "    </tr>\n",
       "    <tr>\n",
       "      <th>1</th>\n",
       "      <td>2017</td>\n",
       "      <td>201100</td>\n",
       "      <td>45</td>\n",
       "      <td>25</td>\n",
       "      <td>207565</td>\n",
       "      <td>10375</td>\n",
       "      <td>960091600127457024</td>\n",
       "      <td>1</td>\n",
       "      <td>AMA</td>\n",
       "      <td>74</td>\n",
       "      <td>...</td>\n",
       "      <td>0.0</td>\n",
       "      <td>0</td>\n",
       "      <td>16.0</td>\n",
       "      <td>1280.0</td>\n",
       "      <td>16.95</td>\n",
       "      <td>1356.0</td>\n",
       "      <td>10.5</td>\n",
       "      <td>137.090203</td>\n",
       "      <td>-47.779393</td>\n",
       "      <td>9875.083022</td>\n",
       "    </tr>\n",
       "    <tr>\n",
       "      <th>2</th>\n",
       "      <td>2017</td>\n",
       "      <td>201100</td>\n",
       "      <td>45</td>\n",
       "      <td>25</td>\n",
       "      <td>100285</td>\n",
       "      <td>10375</td>\n",
       "      <td>960091600127485952</td>\n",
       "      <td>1</td>\n",
       "      <td>AMA</td>\n",
       "      <td>74</td>\n",
       "      <td>...</td>\n",
       "      <td>0.0</td>\n",
       "      <td>0</td>\n",
       "      <td>16.0</td>\n",
       "      <td>1280.0</td>\n",
       "      <td>16.95</td>\n",
       "      <td>1356.0</td>\n",
       "      <td>10.5</td>\n",
       "      <td>137.090203</td>\n",
       "      <td>52.220607</td>\n",
       "      <td>9875.083022</td>\n",
       "    </tr>\n",
       "    <tr>\n",
       "      <th>3</th>\n",
       "      <td>2017</td>\n",
       "      <td>201100</td>\n",
       "      <td>45</td>\n",
       "      <td>25</td>\n",
       "      <td>181685</td>\n",
       "      <td>7374</td>\n",
       "      <td>960091600127457024</td>\n",
       "      <td>1</td>\n",
       "      <td>AMA</td>\n",
       "      <td>74</td>\n",
       "      <td>...</td>\n",
       "      <td>0.0</td>\n",
       "      <td>0</td>\n",
       "      <td>16.0</td>\n",
       "      <td>1280.0</td>\n",
       "      <td>16.95</td>\n",
       "      <td>1356.0</td>\n",
       "      <td>10.5</td>\n",
       "      <td>141.074018</td>\n",
       "      <td>-40.300725</td>\n",
       "      <td>10122.177720</td>\n",
       "    </tr>\n",
       "    <tr>\n",
       "      <th>4</th>\n",
       "      <td>2017</td>\n",
       "      <td>201100</td>\n",
       "      <td>45</td>\n",
       "      <td>26</td>\n",
       "      <td>66238</td>\n",
       "      <td>6697</td>\n",
       "      <td>960091600127469952</td>\n",
       "      <td>1</td>\n",
       "      <td>AMA</td>\n",
       "      <td>700</td>\n",
       "      <td>...</td>\n",
       "      <td>0.0</td>\n",
       "      <td>0</td>\n",
       "      <td>16.0</td>\n",
       "      <td>1280.0</td>\n",
       "      <td>16.95</td>\n",
       "      <td>1356.0</td>\n",
       "      <td>7.0</td>\n",
       "      <td>92.381472</td>\n",
       "      <td>73.753770</td>\n",
       "      <td>6614.094181</td>\n",
       "    </tr>\n",
       "  </tbody>\n",
       "</table>\n",
       "<p>5 rows × 49 columns</p>\n",
       "</div>"
      ],
      "text/plain": [
       "   Year  ProducerID  FarmID  Sales Week  Pallet ID  Sale ID  \\\n",
       "0  2017      201100      45          24     201233     3124   \n",
       "1  2017      201100      45          25     207565    10375   \n",
       "2  2017      201100      45          25     100285    10375   \n",
       "3  2017      201100      45          25     181685     7374   \n",
       "4  2017      201100      45          26      66238     6697   \n",
       "\n",
       "              Barcode Grade Code Mark Code  VarietyID  ... Total Export Cost  \\\n",
       "0  960091600127485952          1       AMA         74  ...               0.0   \n",
       "1  960091600127457024          1       AMA         74  ...               0.0   \n",
       "2  960091600127485952          1       AMA         74  ...               0.0   \n",
       "3  960091600127457024          1       AMA         74  ...               0.0   \n",
       "4  960091600127469952          1       AMA        700  ...               0.0   \n",
       "\n",
       "  Total Weight  Pack Nett Weight Nett Weight  Pack Gross Weight  Gross Weight  \\\n",
       "0            0              16.0      1280.0              16.95        1356.0   \n",
       "1            0              16.0      1280.0              16.95        1356.0   \n",
       "2            0              16.0      1280.0              16.95        1356.0   \n",
       "3            0              16.0      1280.0              16.95        1356.0   \n",
       "4            0              16.0      1280.0              16.95        1356.0   \n",
       "\n",
       "    FOB         DIP        VAT  Return To Grower  \n",
       "0  10.5  139.324307 -55.907373      10074.410440  \n",
       "1  10.5  137.090203 -47.779393       9875.083022  \n",
       "2  10.5  137.090203  52.220607       9875.083022  \n",
       "3  10.5  141.074018 -40.300725      10122.177720  \n",
       "4   7.0   92.381472  73.753770       6614.094181  \n",
       "\n",
       "[5 rows x 49 columns]"
      ]
     },
     "execution_count": 14,
     "metadata": {},
     "output_type": "execute_result"
    }
   ],
   "source": [
    "# visualize DSR raw dataset\n",
    "dsr_df.head()"
   ]
  },
  {
   "cell_type": "code",
   "execution_count": 15,
   "id": "dada0b94",
   "metadata": {},
   "outputs": [
    {
     "name": "stdout",
     "output_type": "stream",
     "text": [
      "Year                       0\n",
      "ProducerID                 0\n",
      "FarmID                     0\n",
      "Sales Week                 0\n",
      "Pallet ID                  0\n",
      "Sale ID                    0\n",
      "Barcode                    0\n",
      "Grade Code                 0\n",
      "Mark Code                  0\n",
      "VarietyID                  0\n",
      "Pack Code                  0\n",
      "Count Code                 2\n",
      "Exchange Rate              0\n",
      "Currency                   0\n",
      "QC                         0\n",
      "Sequence Number            0\n",
      "Production ID            209\n",
      "Run Number             96551\n",
      "Container No           55337\n",
      "VesselID                   0\n",
      "Port Of Discharge      42479\n",
      "Target Market              0\n",
      "Inventory Code           587\n",
      "Trader ID                  0\n",
      "Pallet Size                0\n",
      "From Barcode             211\n",
      "To Barcode                 0\n",
      "Invoice ID                 0\n",
      "Selected                 209\n",
      "No Cartons                 0\n",
      "Advance Price              0\n",
      "Producer Adjustment        0\n",
      "Advance Purchase          44\n",
      "Purchase Price           164\n",
      "Final Price                0\n",
      "Total                      0\n",
      "Debit Note                 0\n",
      "Credit Note                0\n",
      "Total Local Cost           0\n",
      "Total Export Cost          0\n",
      "Total Weight               0\n",
      "Pack Nett Weight         119\n",
      "Nett Weight              119\n",
      "Pack Gross Weight        415\n",
      "Gross Weight             415\n",
      "FOB                        0\n",
      "DIP                        0\n",
      "VAT                    14787\n",
      "Return To Grower           0\n",
      "dtype: int64\n"
     ]
    }
   ],
   "source": [
    "# compute the sum of null values in the dataframe\n",
    "sum_of_null_values = dsr_df.isnull().sum()\n",
    "\n",
    "print(sum_of_null_values)"
   ]
  },
  {
   "cell_type": "markdown",
   "id": "bbdaf387",
   "metadata": {},
   "source": [
    "### Load Farms Raw Dataset"
   ]
  },
  {
   "cell_type": "code",
   "execution_count": 16,
   "id": "c99e940f",
   "metadata": {},
   "outputs": [
    {
     "name": "stdout",
     "output_type": "stream",
     "text": [
      "Time to loads farms data:  0.00057 minutes\n"
     ]
    }
   ],
   "source": [
    "# start time\n",
    "start_time = time.time()\n",
    "\n",
    "# loads farms raw dataset\n",
    "farms_df  = excel_data_object.get_excel_data(farms_data )\n",
    "\n",
    "print(\"Time to loads farms data: \",round((time.time() - start_time)/60,5),\"minutes\")"
   ]
  },
  {
   "cell_type": "code",
   "execution_count": 17,
   "id": "a39bd283",
   "metadata": {},
   "outputs": [
    {
     "data": {
      "text/html": [
       "<div>\n",
       "<style scoped>\n",
       "    .dataframe tbody tr th:only-of-type {\n",
       "        vertical-align: middle;\n",
       "    }\n",
       "\n",
       "    .dataframe tbody tr th {\n",
       "        vertical-align: top;\n",
       "    }\n",
       "\n",
       "    .dataframe thead th {\n",
       "        text-align: right;\n",
       "    }\n",
       "</style>\n",
       "<table border=\"1\" class=\"dataframe\">\n",
       "  <thead>\n",
       "    <tr style=\"text-align: right;\">\n",
       "      <th></th>\n",
       "      <th>ID</th>\n",
       "      <th>Farm Name</th>\n",
       "    </tr>\n",
       "  </thead>\n",
       "  <tbody>\n",
       "    <tr>\n",
       "      <th>0</th>\n",
       "      <td>45</td>\n",
       "      <td>Tel Dan</td>\n",
       "    </tr>\n",
       "    <tr>\n",
       "      <th>1</th>\n",
       "      <td>54</td>\n",
       "      <td>Urkish</td>\n",
       "    </tr>\n",
       "    <tr>\n",
       "      <th>2</th>\n",
       "      <td>62</td>\n",
       "      <td>Lehi</td>\n",
       "    </tr>\n",
       "    <tr>\n",
       "      <th>3</th>\n",
       "      <td>83</td>\n",
       "      <td>Shur</td>\n",
       "    </tr>\n",
       "    <tr>\n",
       "      <th>4</th>\n",
       "      <td>154</td>\n",
       "      <td>Havilah</td>\n",
       "    </tr>\n",
       "  </tbody>\n",
       "</table>\n",
       "</div>"
      ],
      "text/plain": [
       "    ID Farm Name\n",
       "0   45   Tel Dan\n",
       "1   54   Urkish \n",
       "2   62      Lehi\n",
       "3   83      Shur\n",
       "4  154   Havilah"
      ]
     },
     "execution_count": 17,
     "metadata": {},
     "output_type": "execute_result"
    }
   ],
   "source": [
    "# visualize farms raw dataset\n",
    "farms_df.head()"
   ]
  },
  {
   "cell_type": "markdown",
   "id": "feb4eaec",
   "metadata": {},
   "source": [
    "### Load Producers Raw Dataset"
   ]
  },
  {
   "cell_type": "code",
   "execution_count": 18,
   "id": "859c8cb9",
   "metadata": {},
   "outputs": [
    {
     "name": "stdout",
     "output_type": "stream",
     "text": [
      "Time to load producers:  0.00043 minutes\n"
     ]
    }
   ],
   "source": [
    "# start time\n",
    "start_time = time.time()\n",
    "\n",
    "# loads producers raw dataset\n",
    "producers_df  =  excel_data_object.get_excel_data(producers_data)\n",
    "\n",
    "print(\"Time to load producers: \",round((time.time() - start_time)/60,5),\"minutes\")"
   ]
  },
  {
   "cell_type": "code",
   "execution_count": 19,
   "id": "58a50c68",
   "metadata": {},
   "outputs": [
    {
     "data": {
      "text/html": [
       "<div>\n",
       "<style scoped>\n",
       "    .dataframe tbody tr th:only-of-type {\n",
       "        vertical-align: middle;\n",
       "    }\n",
       "\n",
       "    .dataframe tbody tr th {\n",
       "        vertical-align: top;\n",
       "    }\n",
       "\n",
       "    .dataframe thead th {\n",
       "        text-align: right;\n",
       "    }\n",
       "</style>\n",
       "<table border=\"1\" class=\"dataframe\">\n",
       "  <thead>\n",
       "    <tr style=\"text-align: right;\">\n",
       "      <th></th>\n",
       "      <th>ID</th>\n",
       "      <th>Producer</th>\n",
       "    </tr>\n",
       "  </thead>\n",
       "  <tbody>\n",
       "    <tr>\n",
       "      <th>0</th>\n",
       "      <td>201100</td>\n",
       "      <td>Alderaan</td>\n",
       "    </tr>\n",
       "    <tr>\n",
       "      <th>1</th>\n",
       "      <td>318820</td>\n",
       "      <td>Yavin IV</td>\n",
       "    </tr>\n",
       "    <tr>\n",
       "      <th>2</th>\n",
       "      <td>351986</td>\n",
       "      <td>Hoth</td>\n",
       "    </tr>\n",
       "    <tr>\n",
       "      <th>3</th>\n",
       "      <td>240822</td>\n",
       "      <td>Dagobah</td>\n",
       "    </tr>\n",
       "    <tr>\n",
       "      <th>4</th>\n",
       "      <td>11959</td>\n",
       "      <td>Bespin</td>\n",
       "    </tr>\n",
       "  </tbody>\n",
       "</table>\n",
       "</div>"
      ],
      "text/plain": [
       "       ID  Producer\n",
       "0  201100  Alderaan\n",
       "1  318820  Yavin IV\n",
       "2  351986      Hoth\n",
       "3  240822   Dagobah\n",
       "4   11959    Bespin"
      ]
     },
     "execution_count": 19,
     "metadata": {},
     "output_type": "execute_result"
    }
   ],
   "source": [
    "# visualize producers raw dataset\n",
    "producers_df.head()"
   ]
  },
  {
   "cell_type": "markdown",
   "id": "2e40fae1",
   "metadata": {},
   "source": [
    "### Load Varieties Raw Dataset"
   ]
  },
  {
   "cell_type": "code",
   "execution_count": 20,
   "id": "5de04242",
   "metadata": {},
   "outputs": [
    {
     "name": "stdout",
     "output_type": "stream",
     "text": [
      "Time to connect to the DB:  0.00048 minutes\n"
     ]
    }
   ],
   "source": [
    "# start time\n",
    "start_time = time.time()\n",
    "\n",
    "# loads varieties raw dataset\n",
    "varieties_df  = excel_data_object.get_excel_data(varieties_data)\n",
    "\n",
    "print(\"Time to connect to the DB: \",round((time.time() - start_time)/60,5),\"minutes\")"
   ]
  },
  {
   "cell_type": "code",
   "execution_count": 21,
   "id": "7a25187b",
   "metadata": {},
   "outputs": [
    {
     "data": {
      "text/html": [
       "<div>\n",
       "<style scoped>\n",
       "    .dataframe tbody tr th:only-of-type {\n",
       "        vertical-align: middle;\n",
       "    }\n",
       "\n",
       "    .dataframe tbody tr th {\n",
       "        vertical-align: top;\n",
       "    }\n",
       "\n",
       "    .dataframe thead th {\n",
       "        text-align: right;\n",
       "    }\n",
       "</style>\n",
       "<table border=\"1\" class=\"dataframe\">\n",
       "  <thead>\n",
       "    <tr style=\"text-align: right;\">\n",
       "      <th></th>\n",
       "      <th>ID</th>\n",
       "      <th>Variety Group</th>\n",
       "      <th>Variety Code</th>\n",
       "      <th>Commodity Code</th>\n",
       "    </tr>\n",
       "  </thead>\n",
       "  <tbody>\n",
       "    <tr>\n",
       "      <th>0</th>\n",
       "      <td>45</td>\n",
       "      <td>AGN</td>\n",
       "      <td>AGN</td>\n",
       "      <td>OR</td>\n",
       "    </tr>\n",
       "    <tr>\n",
       "      <th>1</th>\n",
       "      <td>965</td>\n",
       "      <td>ALN</td>\n",
       "      <td>ALN</td>\n",
       "      <td>OR</td>\n",
       "    </tr>\n",
       "    <tr>\n",
       "      <th>2</th>\n",
       "      <td>937</td>\n",
       "      <td>ANL</td>\n",
       "      <td>ANL</td>\n",
       "      <td>OR</td>\n",
       "    </tr>\n",
       "    <tr>\n",
       "      <th>3</th>\n",
       "      <td>610</td>\n",
       "      <td>BAR</td>\n",
       "      <td>BAR</td>\n",
       "      <td>GR</td>\n",
       "    </tr>\n",
       "    <tr>\n",
       "      <th>4</th>\n",
       "      <td>686</td>\n",
       "      <td>BIN</td>\n",
       "      <td>ELL</td>\n",
       "      <td>SC</td>\n",
       "    </tr>\n",
       "  </tbody>\n",
       "</table>\n",
       "</div>"
      ],
      "text/plain": [
       "    ID Variety Group Variety Code Commodity Code\n",
       "0   45           AGN          AGN             OR\n",
       "1  965           ALN          ALN             OR\n",
       "2  937           ANL          ANL             OR\n",
       "3  610           BAR          BAR             GR\n",
       "4  686           BIN          ELL             SC"
      ]
     },
     "execution_count": 21,
     "metadata": {},
     "output_type": "execute_result"
    }
   ],
   "source": [
    "# visualize varieties raw dataset\n",
    "varieties_df.head()"
   ]
  },
  {
   "cell_type": "markdown",
   "id": "d87f550a",
   "metadata": {},
   "source": [
    "### Load Vessels Raw Dataset"
   ]
  },
  {
   "cell_type": "code",
   "execution_count": 22,
   "id": "572df6c6",
   "metadata": {},
   "outputs": [
    {
     "name": "stdout",
     "output_type": "stream",
     "text": [
      "Time to connect to the DB:  0.0009 minutes\n"
     ]
    }
   ],
   "source": [
    "# start time\n",
    "start_time = time.time()\n",
    "\n",
    "# loads vessels raw dataset\n",
    "vessels_df = excel_data_object.get_excel_data(vessels_data)\n",
    "\n",
    "print(\"Time to connect to the DB: \",round((time.time() - start_time)/60,5),\"minutes\")"
   ]
  },
  {
   "cell_type": "code",
   "execution_count": 23,
   "id": "dfcfee02",
   "metadata": {},
   "outputs": [
    {
     "data": {
      "text/html": [
       "<div>\n",
       "<style scoped>\n",
       "    .dataframe tbody tr th:only-of-type {\n",
       "        vertical-align: middle;\n",
       "    }\n",
       "\n",
       "    .dataframe tbody tr th {\n",
       "        vertical-align: top;\n",
       "    }\n",
       "\n",
       "    .dataframe thead th {\n",
       "        text-align: right;\n",
       "    }\n",
       "</style>\n",
       "<table border=\"1\" class=\"dataframe\">\n",
       "  <thead>\n",
       "    <tr style=\"text-align: right;\">\n",
       "      <th></th>\n",
       "      <th>ID</th>\n",
       "      <th>Vessel</th>\n",
       "    </tr>\n",
       "  </thead>\n",
       "  <tbody>\n",
       "    <tr>\n",
       "      <th>0</th>\n",
       "      <td>4271</td>\n",
       "      <td>ADRIAN SCHULTE</td>\n",
       "    </tr>\n",
       "    <tr>\n",
       "      <th>1</th>\n",
       "      <td>1347</td>\n",
       "      <td>ALEXANDRA</td>\n",
       "    </tr>\n",
       "    <tr>\n",
       "      <th>2</th>\n",
       "      <td>2653</td>\n",
       "      <td>ALMAVIVA</td>\n",
       "    </tr>\n",
       "    <tr>\n",
       "      <th>3</th>\n",
       "      <td>4496</td>\n",
       "      <td>ALS Venus</td>\n",
       "    </tr>\n",
       "    <tr>\n",
       "      <th>4</th>\n",
       "      <td>6744</td>\n",
       "      <td>AMANDA D</td>\n",
       "    </tr>\n",
       "  </tbody>\n",
       "</table>\n",
       "</div>"
      ],
      "text/plain": [
       "     ID          Vessel\n",
       "0  4271  ADRIAN SCHULTE\n",
       "1  1347       ALEXANDRA\n",
       "2  2653        ALMAVIVA\n",
       "3  4496       ALS Venus\n",
       "4  6744        AMANDA D"
      ]
     },
     "execution_count": 23,
     "metadata": {},
     "output_type": "execute_result"
    }
   ],
   "source": [
    "# visualize varieties raw dataset\n",
    "vessels_df.head()"
   ]
  },
  {
   "cell_type": "code",
   "execution_count": null,
   "id": "833b2fbc",
   "metadata": {},
   "outputs": [],
   "source": []
  },
  {
   "cell_type": "code",
   "execution_count": null,
   "id": "2d65a90e",
   "metadata": {},
   "outputs": [],
   "source": []
  },
  {
   "cell_type": "code",
   "execution_count": null,
   "id": "c9c72a73",
   "metadata": {},
   "outputs": [],
   "source": []
  },
  {
   "cell_type": "code",
   "execution_count": null,
   "id": "01faeadf",
   "metadata": {},
   "outputs": [],
   "source": []
  },
  {
   "cell_type": "code",
   "execution_count": null,
   "id": "1cc73a19",
   "metadata": {},
   "outputs": [],
   "source": []
  },
  {
   "cell_type": "code",
   "execution_count": null,
   "id": "94503ba9",
   "metadata": {},
   "outputs": [],
   "source": []
  },
  {
   "cell_type": "code",
   "execution_count": null,
   "id": "ca26f5ec",
   "metadata": {},
   "outputs": [],
   "source": []
  },
  {
   "cell_type": "code",
   "execution_count": null,
   "id": "e2bae5a3",
   "metadata": {},
   "outputs": [],
   "source": []
  },
  {
   "cell_type": "code",
   "execution_count": null,
   "id": "1305cd5a",
   "metadata": {},
   "outputs": [],
   "source": []
  },
  {
   "cell_type": "code",
   "execution_count": null,
   "id": "77bfd6d0",
   "metadata": {},
   "outputs": [],
   "source": []
  },
  {
   "cell_type": "code",
   "execution_count": null,
   "id": "890c3d60",
   "metadata": {},
   "outputs": [],
   "source": []
  },
  {
   "cell_type": "code",
   "execution_count": null,
   "id": "473bf54a",
   "metadata": {},
   "outputs": [],
   "source": []
  },
  {
   "cell_type": "code",
   "execution_count": null,
   "id": "c100d147",
   "metadata": {},
   "outputs": [],
   "source": []
  },
  {
   "cell_type": "code",
   "execution_count": null,
   "id": "d0363ef3",
   "metadata": {},
   "outputs": [],
   "source": []
  },
  {
   "cell_type": "code",
   "execution_count": null,
   "id": "27feb85c",
   "metadata": {},
   "outputs": [],
   "source": []
  },
  {
   "cell_type": "code",
   "execution_count": null,
   "id": "34dfac72",
   "metadata": {},
   "outputs": [],
   "source": []
  },
  {
   "cell_type": "code",
   "execution_count": null,
   "id": "3689d599",
   "metadata": {},
   "outputs": [],
   "source": []
  },
  {
   "cell_type": "code",
   "execution_count": 8,
   "id": "1cb1e3c9",
   "metadata": {},
   "outputs": [
    {
     "data": {
      "text/plain": [
       "<pyodbc.Connection at 0x1faf6b972a0>"
      ]
     },
     "execution_count": 8,
     "metadata": {},
     "output_type": "execute_result"
    }
   ],
   "source": [
    "# define server name and the database name\n",
    "server = \"DESKTOP-E5PL80T\\SQLEXPRESS\"\n",
    "database = \"Atom_Assessment_2021\"\n",
    "#self.driver =  \"ODBC Driver 17 for SQL Server\"\n",
    "\n",
    "# define connection string\n",
    "conn = pyodbc.connect('DRIVER={ODBC Driver 17 for SQL Server}; \\\n",
    "                       SERVER=' + server + '; \\\n",
    "                       DATABASE=' + database +';\\\n",
    "                       Trusted_Connection=yes;')\n",
    "\n",
    "# create the connection cursor\n",
    "cursor = conn.cursor()\n"
   ]
  },
  {
   "cell_type": "code",
   "execution_count": null,
   "id": "d769eb92",
   "metadata": {},
   "outputs": [],
   "source": []
  }
 ],
 "metadata": {
  "kernelspec": {
   "display_name": "Python 3",
   "language": "python",
   "name": "python3"
  },
  "language_info": {
   "codemirror_mode": {
    "name": "ipython",
    "version": 3
   },
   "file_extension": ".py",
   "mimetype": "text/x-python",
   "name": "python",
   "nbconvert_exporter": "python",
   "pygments_lexer": "ipython3",
   "version": "3.8.8"
  }
 },
 "nbformat": 4,
 "nbformat_minor": 5
}
